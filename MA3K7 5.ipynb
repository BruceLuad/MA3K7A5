{
 "cells": [
  {
   "cell_type": "code",
   "execution_count": 11,
   "id": "c4dd75eb",
   "metadata": {},
   "outputs": [
    {
     "name": "stdout",
     "output_type": "stream",
     "text": [
      "1000000 98 9.8e-05\n"
     ]
    }
   ],
   "source": [
    "import random\n",
    "def create_random_grid(n):\n",
    "    numbers = list(range(1, n*n + 1))\n",
    "    random.shuffle(numbers)\n",
    "    grid = [[0]*n for _ in range(n)]\n",
    "    for i in range(n):\n",
    "        for j in range(n):\n",
    "            grid[i][j] = numbers.pop()\n",
    "    return grid\n",
    "\n",
    "def valid_move(x, y, visited, n): #check if the position has not been reached and is inside the grid\n",
    "    return 0 <= x < n and 0 <= y < n and (x, y) not in visited\n",
    "\n",
    "def dfs(grid, x, y, length, visited):#Depth-First Search, only returns true if \n",
    "    n = len(grid)\n",
    "    visited.add((x, y))\n",
    "    if grid[x][y] == length:\n",
    "        if length == n*n:\n",
    "            return True\n",
    "        length += 1\n",
    "    else:\n",
    "        return False\n",
    "    for dx, dy in [(0, 1), (1, 0), (0, -1), (-1, 0)]:\n",
    "        nx, ny = x + dx, y + dy\n",
    "        if valid_move(nx, ny,visited, n) and grid[nx][ny] == length:\n",
    "            if dfs(grid, nx, ny, length, visited):\n",
    "                return True\n",
    "    visited.remove((x, y))\n",
    "    return False\n",
    "\n",
    "def check_path(grid):\n",
    "    n = len(grid)\n",
    "    for i in range(n):\n",
    "        for j in range(n):\n",
    "            if grid[i][j] == 1:\n",
    "                if dfs(grid, i, j, 1, set()):\n",
    "                    return True\n",
    "    return False\n",
    "\n",
    "n = 3  # Size of the grid\n",
    "Total_num = 0\n",
    "Valid = 0\n",
    "while Total_num < 1000000:\n",
    "    grid = create_random_grid(n)\n",
    "\n",
    "    if check_path(grid):\n",
    "        Total_num += 1\n",
    "        Valid += 1\n",
    "    else:\n",
    "        Total_num += 1\n",
    "print(Total_num , Valid, Valid/Total_num)"
   ]
  },
  {
   "cell_type": "code",
   "execution_count": 2,
   "id": "215b23cc",
   "metadata": {},
   "outputs": [],
   "source": [
    "def formation(n):\n",
    "    total_count = 0\n",
    "    for i in range(n):#iterate through all starting cell\n",
    "        for j in range(n):\n",
    "            visited = set()\n",
    "            total_count += count_paths(i, j, visited, 1,n)\n",
    "    return total_count\n",
    "\n",
    "def count_paths(x, y, visited, length, n):#count the number of paths created with the starting position (i,j)\n",
    "    if length == n**2: #a valid formation must traverse the the entire grid and there have length n^2\n",
    "        return 1\n",
    "    count = 0\n",
    "    visited.add((x, y))#keep track of visited cells\n",
    "    for dx, dy in [(0, 1), (1, 0), (0, -1), (-1, 0)]:#possible move directions\n",
    "        nx, ny = x + dx, y + dy\n",
    "        if valid_move(nx, ny, visited, n): #if there is possible move then we continue down the path\n",
    "            count += count_paths(nx, ny, visited, length + 1, n)\n",
    "    visited.remove((x, y))\n",
    "    return count "
   ]
  },
  {
   "cell_type": "code",
   "execution_count": 3,
   "id": "83cb7cdc",
   "metadata": {
    "scrolled": false
   },
   "outputs": [
    {
     "data": {
      "image/png": "[encoded data removed]",
      "text/plain": [
       "<Figure size 432x288 with 1 Axes>"
      ]
     },
     "metadata": {
      "needs_background": "light"
     },
     "output_type": "display_data"
    },
    {
     "name": "stdout",
     "output_type": "stream",
     "text": [
      "33.33333333333333\n",
      "0.011022927689594356\n",
      "2.6382714874778366e-09\n",
      "5.575322605935693e-20\n"
     ]
    }
   ],
   "source": [
    "import matplotlib.pyplot as plt\n",
    "import math\n",
    "%matplotlib inline\n",
    "grid_sizes = range(2, 6)  # Grid sizes from 2x2 to 5x5\n",
    "percentage = [formation(n)/math.factorial(n**2)*100 for n in grid_sizes]\n",
    "plt.semilogy(grid_sizes, percentage, marker='o')\n",
    "plt.title('Percentage of valid formations')\n",
    "plt.xlabel('Grid Size (n x n)')\n",
    "plt.xticks(grid_sizes)\n",
    "plt.ylabel('Percent')\n",
    "plt.grid(True)\n",
    "plt.show()\n",
    "for n in range(0,4):\n",
    "    print(percentage[n])"
   ]
  }
 ],
 "metadata": {
  "kernelspec": {
   "display_name": "Python 3 (ipykernel)",
   "language": "python",
   "name": "python3"
  },
  "language_info": {
   "codemirror_mode": {
    "name": "ipython",
    "version": 3
   },
   "file_extension": ".py",
   "mimetype": "text/x-python",
   "name": "python",
   "nbconvert_exporter": "python",
   "pygments_lexer": "ipython3",
   "version": "3.9.12"
  }
 },
 "nbformat": 4,
 "nbformat_minor": 5
}
